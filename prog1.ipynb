{
 "cells": [
  {
   "cell_type": "code",
   "execution_count": 4,
   "metadata": {},
   "outputs": [
    {
     "name": "stdout",
     "output_type": "stream",
     "text": [
      "[0.0, 0.014285714285714285, 0.02857142857142857, 0.05714285714285714, 0.8571428571428571, 1.0]\n"
     ]
    }
   ],
   "source": [
    "#Normalize\n",
    "\n",
    "l=[1,10,20,40,600,700]\n",
    "def normalize(l):\n",
    "    for i in range(len(l)):\n",
    "        xmin=min(l)\n",
    "        xmax=max(l)\n",
    "        l[i]=(l[i]-xmin)/(xmax-xmin)\n",
    "    return l\n",
    "print(normalize(l))"
   ]
  },
  {
   "cell_type": "code",
   "execution_count": 9,
   "metadata": {},
   "outputs": [
    {
     "name": "stdout",
     "output_type": "stream",
     "text": [
      "[-0.7591579596366211, -0.72912533705759, -0.6957557564142219, -0.6290165951274861, 1.2396799209011198, 1.5733757273347995]\n"
     ]
    }
   ],
   "source": [
    "#Standardize\n",
    "\n",
    "l=[1,10,20,40,600,700]\n",
    "def standardize(l):\n",
    "    mean=sum(l)/len(l)\n",
    "    var=0\n",
    "    for i in range(len(l)):\n",
    "        var+=(l[i]-mean)**2\n",
    "    var=var/len(l)\n",
    "    import math\n",
    "    std=math.sqrt(var)\n",
    "    for i in range(len(l)):\n",
    "        l[i]=(l[i]-mean)/std\n",
    "    return l\n",
    "print(standardize(l))\n",
    "        "
   ]
  },
  {
   "cell_type": "code",
   "execution_count": 3,
   "metadata": {},
   "outputs": [
    {
     "name": "stdout",
     "output_type": "stream",
     "text": [
      "Cluster1--> [[5.9, 3.2], [4.6, 2.9], [4.7, 3.2], [5.0, 3.0], [4.9, 3.1], [5.1, 3.8], [6.0, 3.0]]\n",
      "Cluster2--> [[5.5, 4.2]]\n",
      "Cluster3--> [[6.2, 2.8], [6.7, 3.1]]\n"
     ]
    }
   ],
   "source": [
    "#Clusters\n",
    "import math\n",
    "c1=[]\n",
    "c2=[]\n",
    "c3=[]\n",
    "x1,y1=6.2,3.2\n",
    "x2,y2=6.6,3.7\n",
    "x3,y3=6.5,3.0\n",
    "\n",
    "p=[[5.9,3.2],\n",
    "  [4.6,2.9],\n",
    "  [6.2,2.8],\n",
    "  [4.7,3.2],\n",
    "  [5.5,4.2],\n",
    "  [5.0,3.0],\n",
    "  [4.9,3.1],\n",
    "  [6.7,3.1],\n",
    "  [5.1,3.8],\n",
    "  [6.0,3.0]]\n",
    "\n",
    "def eucledian(a,b):\n",
    "    d1=math.sqrt((a-x1)**2+(b-y1)**2)\n",
    "    d2=math.sqrt((a-x2)**2+(b-y2)**2)\n",
    "    d3=math.sqrt((a-x3)**2+(b-y3)**2)\n",
    "    mind=min(d1,d2,d3)\n",
    "    if(mind==d1):\n",
    "        c1.append([a,b])\n",
    "    elif(mind==d2):\n",
    "        c2.append([a,b])\n",
    "    else:\n",
    "        c3.append([a,b])\n",
    "        \n",
    "        \n",
    "for i,j in p:\n",
    "    eucledian(i,j)\n",
    "    \n",
    "print(\"Cluster1-->\",c1)\n",
    "print(\"Cluster2-->\",c2)\n",
    "print(\"Cluster3-->\",c3)"
   ]
  },
  {
   "cell_type": "code",
   "execution_count": null,
   "metadata": {},
   "outputs": [],
   "source": []
  }
 ],
 "metadata": {
  "kernelspec": {
   "display_name": "Python 3",
   "language": "python",
   "name": "python3"
  },
  "language_info": {
   "codemirror_mode": {
    "name": "ipython",
    "version": 3
   },
   "file_extension": ".py",
   "mimetype": "text/x-python",
   "name": "python",
   "nbconvert_exporter": "python",
   "pygments_lexer": "ipython3",
   "version": "3.8.10"
  }
 },
 "nbformat": 4,
 "nbformat_minor": 4
}
