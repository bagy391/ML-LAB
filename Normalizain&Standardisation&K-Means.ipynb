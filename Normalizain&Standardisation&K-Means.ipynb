{
 "cells": [
  {
   "cell_type": "code",
   "execution_count": 6,
   "metadata": {},
   "outputs": [
    {
     "name": "stdout",
     "output_type": "stream",
     "text": [
      "0.5\n",
      "0.125\n",
      "0.75\n",
      "0.625\n",
      "0.25\n",
      "0.0\n",
      "1.0\n"
     ]
    }
   ],
   "source": [
    "l = [5, 2, 7, 6, 3, 1, 9]\n",
    "su=0\n",
    "maxi = max(l)\n",
    "\n",
    "mini = min(l)\n",
    "\n",
    "for i in l :\n",
    "    n =  (i - mini)/(maxi-mini)\n",
    "    print(n)"
   ]
  },
  {
   "cell_type": "code",
   "execution_count": 7,
   "metadata": {},
   "outputs": [
    {
     "name": "stdout",
     "output_type": "stream",
     "text": [
      "4.714285714285714\n"
     ]
    }
   ],
   "source": [
    "for i in l:\n",
    "    su=su+int(i)\n",
    "mean=su/len(l)\n",
    "print(mean)"
   ]
  },
  {
   "cell_type": "code",
   "execution_count": 8,
   "metadata": {},
   "outputs": [
    {
     "name": "stdout",
     "output_type": "stream",
     "text": [
      "[0.10752066611409403, -1.0214463280838937, 0.8601653289127525, 0.4838429975134233, -0.6451239966845644, -1.397768659483223, 1.612809991711411]\n"
     ]
    }
   ],
   "source": [
    "def stand(l):\n",
    "    var=0\n",
    "    for i in range(len(l)):\n",
    "        var+=(l[i]-mean)**2\n",
    "    var=var/len(l)\n",
    "    import math\n",
    "    std=math.sqrt(var)\n",
    "    for i in range(len(l)):\n",
    "        l[i]=(l[i]-mean)/std\n",
    "    return l\n",
    "print (stand(l))\n",
    "        "
   ]
  },
  {
   "cell_type": "code",
   "execution_count": 4,
   "metadata": {},
   "outputs": [],
   "source": [
    "import pandas as pd\n",
    "import numpy as np\n",
    "data=pd.read_csv(\"samp.csv\")\n",
    "data\n",
    "import math \n",
    "cluster1=[]\n",
    "cluster2=[]\n",
    "cluster3=[]\n",
    "cl1=[6.2,3.2]\n",
    "cl2=[6.6,3.7]\n",
    "cl3=[6.5,3.0]\n",
    "def euc(a,b):\n",
    "    d1=math.sqrt((cl1[0]-a)**2 + (cl1[1]-b)**2)\n",
    "    d2=math.sqrt((cl2[0]-a)**2 + (cl2[1]-b)**2)\n",
    "    d3=math.sqrt((cl3[0]-a)**2 + (cl3[1]-b)**2)\n",
    "    md=min(d1,d2,d3)\n",
    "    if(md==d1):\n",
    "        cluster1.append([a,b])\n",
    "    elif(md==d2):\n",
    "        cluster2.append([a,b])\n",
    "    else:\n",
    "        cluster3.append([a,b])\n",
    "\n",
    "    "
   ]
  },
  {
   "cell_type": "code",
   "execution_count": 5,
   "metadata": {},
   "outputs": [
    {
     "name": "stdout",
     "output_type": "stream",
     "text": [
      "cluster1 :  [[5.9, 3.2], [4.6, 2.9], [4.7, 3.2], [5.0, 3.0], [4.9, 3.1], [5.1, 3.8], [6.0, 3.0]]\n",
      "cluster2 :  [[5.5, 4.2]]\n",
      "cluster3 :  [[6.2, 2.8], [6.7, 3.1]]\n"
     ]
    }
   ],
   "source": [
    "for i in range(0,10):\n",
    "    euc(data['x1'][i],data['x2'][i])\n",
    "print(\"cluster1 : \",cluster1)\n",
    "print(\"cluster2 : \",cluster2)\n",
    "print(\"cluster3 : \",cluster3)"
   ]
  },
  {
   "cell_type": "code",
   "execution_count": 9,
   "metadata": {},
   "outputs": [
    {
     "name": "stdout",
     "output_type": "stream",
     "text": [
      "    x1   x2\n",
      "0  5.9  3.2\n",
      "1  4.6  2.9\n",
      "2  6.2  2.8\n",
      "3  4.7  3.2\n",
      "4  5.5  4.2\n",
      "5  5.0  3.0\n",
      "6  4.9  3.1\n",
      "7  6.7  3.1\n",
      "8  5.1  3.8\n",
      "9  6.0  3.0 \n",
      "\n",
      "[[5.9 3.2]\n",
      " [4.6 2.9]\n",
      " [6.2 2.8]\n",
      " [4.7 3.2]\n",
      " [5.5 4.2]\n",
      " [5.  3. ]\n",
      " [4.9 3.1]\n",
      " [6.7 3.1]\n",
      " [5.1 3.8]\n",
      " [6.  3. ]] \n",
      "\n",
      "Initial Centroids\n",
      "(3, 2) \n",
      "\n",
      "[[0. 0.]\n",
      " [0. 0.]\n",
      " [0. 0.]] \n",
      "\n",
      "[0. 0. 0. 0. 0. 0. 0. 0. 0. 0.] \n",
      "\n",
      "12.537144692236463 \n",
      "\n",
      "[0. 0. 0. 0. 0. 0. 0. 0. 0. 0.]\n",
      "[0. 0. 0. 0. 0. 0. 0. 0. 0. 0.]\n",
      "[0. 0. 2. 0. 0. 0. 0. 0. 0. 0.]\n",
      "[0. 0. 2. 0. 0. 0. 0. 0. 0. 0.]\n",
      "[0. 0. 2. 0. 1. 0. 0. 0. 0. 0.]\n",
      "[0. 0. 2. 0. 1. 0. 0. 0. 0. 0.]\n",
      "[0. 0. 2. 0. 1. 0. 0. 0. 0. 0.]\n",
      "[0. 0. 2. 0. 1. 0. 0. 2. 0. 0.]\n",
      "[0. 0. 2. 0. 1. 0. 0. 2. 0. 0.]\n",
      "[0. 0. 2. 0. 1. 0. 0. 2. 0. 0.]\n",
      " Centre of the clusters after  1  Iteration \n",
      " [[5.1714287 3.1714287]\n",
      " [5.5       4.2      ]\n",
      " [6.45      2.95     ]] \n",
      "\n",
      "Error  ...  1.5886393 \n",
      "\n",
      "[2. 0. 2. 0. 1. 0. 0. 2. 0. 0.]\n",
      "[2. 0. 2. 0. 1. 0. 0. 2. 0. 0.]\n",
      "[2. 0. 2. 0. 1. 0. 0. 2. 0. 0.]\n",
      "[2. 0. 2. 0. 1. 0. 0. 2. 0. 0.]\n",
      "[2. 0. 2. 0. 1. 0. 0. 2. 0. 0.]\n",
      "[2. 0. 2. 0. 1. 0. 0. 2. 0. 0.]\n",
      "[2. 0. 2. 0. 1. 0. 0. 2. 0. 0.]\n",
      "[2. 0. 2. 0. 1. 0. 0. 2. 0. 0.]\n",
      "[2. 0. 2. 0. 1. 0. 0. 2. 1. 0.]\n",
      "[2. 0. 2. 0. 1. 0. 0. 2. 1. 2.]\n",
      " Centre of the clusters after  2  Iteration \n",
      " [[4.8   3.05 ]\n",
      " [5.3   4.   ]\n",
      " [6.2   3.025]] \n",
      "\n",
      "Error  ...  0.5484787 \n",
      "\n",
      "[2. 0. 2. 0. 1. 0. 0. 2. 1. 2.]\n",
      "[2. 0. 2. 0. 1. 0. 0. 2. 1. 2.]\n",
      "[2. 0. 2. 0. 1. 0. 0. 2. 1. 2.]\n",
      "[2. 0. 2. 0. 1. 0. 0. 2. 1. 2.]\n",
      "[2. 0. 2. 0. 1. 0. 0. 2. 1. 2.]\n",
      "[2. 0. 2. 0. 1. 0. 0. 2. 1. 2.]\n",
      "[2. 0. 2. 0. 1. 0. 0. 2. 1. 2.]\n",
      "[2. 0. 2. 0. 1. 0. 0. 2. 1. 2.]\n",
      "[2. 0. 2. 0. 1. 0. 0. 2. 1. 2.]\n",
      "[2. 0. 2. 0. 1. 0. 0. 2. 1. 2.]\n",
      " Centre of the clusters after  3  Iteration \n",
      " [[4.8   3.05 ]\n",
      " [5.3   4.   ]\n",
      " [6.2   3.025]] \n",
      "\n",
      "Error  ...  0.0 \n",
      "\n"
     ]
    }
   ],
   "source": [
    "from copy import deepcopy\n",
    "\n",
    "\n",
    "def euclidean(a,b, ax=1):\n",
    "    return np.linalg.norm(a-b, axis=ax)\n",
    "def main():\n",
    "    k = 3\n",
    "    X = pd.read_csv('samp.csv',index_col=False)\n",
    "    print(X,\"\\n\")\n",
    "\n",
    "    x1 = X['x1'].values\n",
    "    x2 = X['x2'].values\n",
    "    X = np.array(list(zip(x1, x2)))\n",
    "    print(X,\"\\n\")\n",
    "    C_x = [6.2, 6.6 ,6.5]\n",
    "    C_y = [3.2, 3.7, 3.0]\n",
    "    Centroid = np.array(list(zip(C_x, C_y)), dtype=np.float32)\n",
    "    print(\"Initial Centroids\")\n",
    "    print(Centroid.shape,\"\\n\")\n",
    "\n",
    "    Centroid_old = np.zeros(Centroid.shape)\n",
    "    print(Centroid_old,\"\\n\")\n",
    "    # Cluster Lables(0, 1, 2)\n",
    "    clusters = np.zeros(len(X))\n",
    "    print(clusters,\"\\n\")\n",
    "    error = euclidean(Centroid, Centroid_old, None)\n",
    "    print(error,\"\\n\")\n",
    "    iterr = 0\n",
    "    # Loop will run till the error becomes zero\n",
    "    while error != 0:\n",
    "        # Assigning each value to its closest cluster\n",
    "        iterr = iterr + 1\n",
    "        for i in range(len(X)):\n",
    "            #print(X[i])\n",
    "            distances = euclidean(X[i], Centroid)\n",
    "            #print(distances)\n",
    "            cluster = np.argmin(distances)\n",
    "            clusters[i] = cluster\n",
    "\n",
    "            print(clusters)\n",
    "        Centroid_old = deepcopy(Centroid)\n",
    "        \n",
    "        # Finding the new centroids by taking the Mean\n",
    "        for p in range(k):\n",
    "            points = [X[j] for j in range(len(X)) if clusters[j] == p]\n",
    "            Centroid[p] = np.mean(points, axis=0)\n",
    "        print(\" Centre of the clusters after \", iterr,\" Iteration \\n\", Centroid,\"\\n\")\n",
    "        error = euclidean(Centroid, Centroid_old, None)\n",
    "        print(\"Error  ... \",error,\"\\n\")  \n",
    "    \n",
    "\n",
    "if __name__ == \"__main__\": \n",
    "    main()"
   ]
  },
  {
   "cell_type": "code",
   "execution_count": null,
   "metadata": {},
   "outputs": [],
   "source": []
  }
 ],
 "metadata": {
  "kernelspec": {
   "display_name": "Python 3",
   "language": "python",
   "name": "python3"
  },
  "language_info": {
   "codemirror_mode": {
    "name": "ipython",
    "version": 3
   },
   "file_extension": ".py",
   "mimetype": "text/x-python",
   "name": "python",
   "nbconvert_exporter": "python",
   "pygments_lexer": "ipython3",
   "version": "3.7.4"
  }
 },
 "nbformat": 4,
 "nbformat_minor": 2
}
