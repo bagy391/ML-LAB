{
 "cells": [
  {
   "cell_type": "code",
   "execution_count": 6,
   "metadata": {},
   "outputs": [
    {
     "name": "stdout",
     "output_type": "stream",
     "text": [
      "Sorted Array in Ascending Order:\n",
      "[1, 2, 3, 7, 9]\n"
     ]
    }
   ],
   "source": [
    "def bubbleSort(arr):\n",
    "    \n",
    "    for i in range(len(arr)):\n",
    "        \n",
    "        for j in range(0, len(arr) - i - 1):\n",
    "\n",
    "            if arr[j] > arr[j + 1]:\n",
    "\n",
    "        \n",
    "                temp = arr[j]\n",
    "                arr[j] = arr[j+1]\n",
    "                arr[j+1] = temp\n",
    "\n",
    "\n",
    "data = [1,7,3,2,9]\n",
    "bubbleSort(data)\n",
    "\n",
    "print('Sorted Array in Ascending Order:')\n",
    "print(data)\n",
    "            "
   ]
  },
  {
   "cell_type": "code",
   "execution_count": null,
   "metadata": {},
   "outputs": [],
   "source": []
  },
  {
   "cell_type": "code",
   "execution_count": 9,
   "metadata": {},
   "outputs": [
    {
     "name": "stdout",
     "output_type": "stream",
     "text": [
      "Mean / Average is: 4.1000000000000005\n"
     ]
    }
   ],
   "source": [
    "\n",
    "num = [2,4,6.3]\n",
    "a = len(num)\n",
    "\n",
    "get_sum = sum(num)\n",
    "mean = get_sum / n\n",
    "\n",
    "print(\"Mean / Average is: \" + str(mean))\n"
   ]
  },
  {
   "cell_type": "code",
   "execution_count": 13,
   "metadata": {},
   "outputs": [
    {
     "name": "stdout",
     "output_type": "stream",
     "text": [
      "Median is: 3\n"
     ]
    }
   ],
   "source": [
    "\n",
    "num = [3,6,4,2,1]\n",
    "n = len(num)\n",
    "num.sort()\n",
    "\n",
    "if n % 2 == 0:\n",
    "\tmedian1 = num[n//2]\n",
    "\tmedian2 = num[n//2 - 1]\n",
    "\tmedian = (median1 + median2)/2\n",
    "else:\n",
    "\tmedian = num[n//2]\n",
    "print(\"Median is: \" + str(median))\n"
   ]
  },
  {
   "cell_type": "code",
   "execution_count": 15,
   "metadata": {},
   "outputs": [
    {
     "name": "stdout",
     "output_type": "stream",
     "text": [
      "Mode is / are: 5\n"
     ]
    }
   ],
   "source": [
    "from collections import Counter\n",
    "\n",
    "n_num = [1, 2, 3, 4, 5, 5]\n",
    "n = len(n_num)\n",
    "\n",
    "data = Counter(n_num)\n",
    "get_mode = dict(data)\n",
    "mode = [k for k, v in get_mode.items() if v == max(list(data.values()))]\n",
    "\n",
    "if len(mode) == n:\n",
    "\tget_mode = \"No mode found\"\n",
    "else:\n",
    "\tget_mode = \"Mode is / are: \" + ', '.join(map(str, mode))\n",
    "\t\n",
    "print(get_mode)\n"
   ]
  },
  {
   "cell_type": "code",
   "execution_count": null,
   "metadata": {},
   "outputs": [],
   "source": []
  }
 ],
 "metadata": {
  "kernelspec": {
   "display_name": "Python 3",
   "language": "python",
   "name": "python3"
  },
  "language_info": {
   "codemirror_mode": {
    "name": "ipython",
    "version": 3
   },
   "file_extension": ".py",
   "mimetype": "text/x-python",
   "name": "python",
   "nbconvert_exporter": "python",
   "pygments_lexer": "ipython3",
   "version": "3.8.10"
  }
 },
 "nbformat": 4,
 "nbformat_minor": 4
}
