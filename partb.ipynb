{
 "cells": [
  {
   "cell_type": "markdown",
   "metadata": {},
   "source": [
    "# Random Forest"
   ]
  },
  {
   "cell_type": "code",
   "execution_count": 1,
   "metadata": {},
   "outputs": [
    {
     "name": "stdout",
     "output_type": "stream",
     "text": [
      "Accuracy: 0.8051948051948052\n",
      "Accuracy-DecisionTree : 0.7532467532467533\n"
     ]
    }
   ],
   "source": [
    "import pandas as pd\n",
    "import numpy as np\n",
    "data = pd.read_csv('pima.csv')\n",
    "data.sample(5)\n",
    "data.columns\n",
    "X=data.drop(\"Outcome\",axis=1)\n",
    "y=data[\"Outcome\"]\n",
    "np.random.seed(42)\n",
    "from sklearn.preprocessing import StandardScaler\n",
    "scaler=StandardScaler()\n",
    "X_scaled=scaler.fit_transform(X)\n",
    "from sklearn.model_selection import train_test_split\n",
    "from sklearn.ensemble import RandomForestClassifier\n",
    "X_train,X_test,Y_train,Y_test=train_test_split(X_scaled,y,stratify=y,test_size=0.10)\n",
    "classifier = RandomForestClassifier(n_estimators=100)\n",
    "classifier.fit(X_train,Y_train)\n",
    "y_pred = classifier.predict(X_test)\n",
    "from sklearn.metrics import accuracy_score\n",
    "print(\"Accuracy:\",accuracy_score(Y_test,y_pred))\n",
    "from sklearn.tree import DecisionTreeClassifier\n",
    "clf=DecisionTreeClassifier()\n",
    "clf.fit(X_train,Y_train)\n",
    "Y_pred = clf.predict(X_test)\n",
    "print(\"Accuracy-DecisionTree :\",accuracy_score(Y_test,Y_pred))"
   ]
  },
  {
   "cell_type": "markdown",
   "metadata": {},
   "source": [
    "# Navie Bayes"
   ]
  },
  {
   "cell_type": "code",
   "execution_count": 2,
   "metadata": {},
   "outputs": [
    {
     "name": "stdout",
     "output_type": "stream",
     "text": [
      "Accuracy: 0.8\n",
      "\n",
      "Report\n",
      "              precision    recall  f1-score   support\n",
      "\n",
      "           0       0.67      1.00      0.80         2\n",
      "           1       1.00      0.67      0.80         3\n",
      "\n",
      "    accuracy                           0.80         5\n",
      "   macro avg       0.83      0.83      0.80         5\n",
      "weighted avg       0.87      0.80      0.80         5\n",
      "\n"
     ]
    },
    {
     "data": {
      "image/png": "[encoded data removed]",
      "text/plain": [
       "<Figure size 432x288 with 1 Axes>"
      ]
     },
     "metadata": {
      "needs_background": "light"
     },
     "output_type": "display_data"
    }
   ],
   "source": [
    "import pandas as pd\n",
    "import numpy as np\n",
    "data = pd.read_csv('covid.csv')\n",
    "data.head()\n",
    "from sklearn.preprocessing import LabelEncoder\n",
    "data=data.apply(LabelEncoder().fit_transform)\n",
    "X = data.iloc[:, 1:-1].values\n",
    "Y = data.iloc[:, -1].values\n",
    "from sklearn.model_selection import train_test_split\n",
    "X_train,X_test,Y_train,Y_test=train_test_split(X, Y,test_size = 0.2,random_state=111)\n",
    "from sklearn.naive_bayes import MultinomialNB\n",
    "model = MultinomialNB()\n",
    "model.fit(X_train, Y_train)\n",
    "y_pred = model.predict(X_test)\n",
    "from sklearn.metrics import accuracy_score, classification_report\n",
    "print(\"Accuracy:\",accuracy_score(Y_test, y_pred))\n",
    "print(\"\\nReport\")\n",
    "print(classification_report(Y_test,y_pred))\n",
    "import scikitplot as skplt\n",
    "import matplotlib.pyplot as plt\n",
    "y_prob = model.predict_proba(X_test)\n",
    "skplt.metrics.plot_roc(Y_test, y_prob)\n",
    "plt.show()"
   ]
  },
  {
   "cell_type": "markdown",
   "metadata": {},
   "source": [
    "# SVM"
   ]
  },
  {
   "cell_type": "code",
   "execution_count": 3,
   "metadata": {},
   "outputs": [
    {
     "name": "stdout",
     "output_type": "stream",
     "text": [
      "0.9846153846153847\n",
      "[[18  1  0  0  0  0]\n",
      " [ 0 23  0  0  0  0]\n",
      " [ 0  0  4  0  0  0]\n",
      " [ 0  0  0  6  0  0]\n",
      " [ 0  0  0  0  3  0]\n",
      " [ 0  0  0  0  0 10]]\n",
      "              precision    recall  f1-score   support\n",
      "\n",
      "           1       1.00      0.95      0.97        19\n",
      "           2       0.96      1.00      0.98        23\n",
      "           3       1.00      1.00      1.00         4\n",
      "           5       1.00      1.00      1.00         6\n",
      "           6       1.00      1.00      1.00         3\n",
      "           7       1.00      1.00      1.00        10\n",
      "\n",
      "    accuracy                           0.98        65\n",
      "   macro avg       0.99      0.99      0.99        65\n",
      "weighted avg       0.99      0.98      0.98        65\n",
      "\n",
      "0.5846153846153846\n",
      "0.9846153846153847\n",
      "0.8\n"
     ]
    }
   ],
   "source": [
    "import numpy as np\n",
    "import pandas as pd\n",
    "np.random.seed(42)\n",
    "data=pd.read_csv('glass.csv')\n",
    "data.head()\n",
    "x=data.drop('Type',axis=1)\n",
    "y=data.Type\n",
    "from sklearn.model_selection import train_test_split\n",
    "from sklearn import svm\n",
    "x_train,x_test,y_train,y_test=train_test_split(x,y,test_size=0.3)\n",
    "linear=svm.SVC(kernel='linear')\n",
    "linear.fit(x_train,y_train)\n",
    "y_pred=linear.predict(x_test)\n",
    "from sklearn.metrics import accuracy_score\n",
    "print(accuracy_score(y_test,y_pred))\n",
    "from sklearn.metrics import confusion_matrix\n",
    "print(confusion_matrix(y_test,y_pred))\n",
    "from sklearn.metrics import classification_report\n",
    "print(classification_report(y_test,y_pred))\n",
    "model1=svm.SVC(kernel='sigmoid')\n",
    "model2=svm.SVC(kernel='poly')\n",
    "model3=svm.SVC(kernel='rbf')\n",
    "model1.fit(x_train,y_train)\n",
    "model2.fit(x_train,y_train)\n",
    "model3.fit(x_train,y_train)\n",
    "y_pred1=model1.predict(x_test)\n",
    "y_pred2=model2.predict(x_test)\n",
    "y_pred3=model3.predict(x_test)\n",
    "print(accuracy_score(y_test,y_pred1))\n",
    "print(accuracy_score(y_test,y_pred2))\n",
    "print(accuracy_score(y_test,y_pred3))"
   ]
  },
  {
   "cell_type": "markdown",
   "metadata": {},
   "source": [
    "# PCA"
   ]
  },
  {
   "cell_type": "code",
   "execution_count": 4,
   "metadata": {},
   "outputs": [
    {
     "name": "stdout",
     "output_type": "stream",
     "text": [
      "   sepal length  sepal width  petal length  petal width\n",
      "0           5.1          3.5           1.4          0.2\n",
      "1           4.9          3.0           1.4          0.2\n",
      "2           4.7          3.2           1.3          0.2\n",
      "3           4.6          3.1           1.5          0.2\n",
      "4           5.0          3.6           1.4          0.2 \n",
      "\n",
      "0    1\n",
      "1    1\n",
      "2    1\n",
      "3    1\n",
      "4    1\n",
      "Name: species, dtype: int64\n",
      "[2.93808505 0.9201649  0.14774182 0.02085386] \n",
      "\n",
      "[[ 0.52106591 -0.37741762 -0.71956635  0.26128628]\n",
      " [-0.26934744 -0.92329566  0.24438178 -0.12350962]\n",
      " [ 0.5804131  -0.02449161  0.14212637 -0.80144925]\n",
      " [ 0.56485654 -0.06694199  0.63427274  0.52359713]]\n",
      "Variance of each feature [72.96244541329987, 22.850761786701774, 3.668921889282877, 0.51787091071548]\n"
     ]
    },
    {
     "data": {
      "image/png": "[encoded data removed]",
      "text/plain": [
       "<Figure size 576x288 with 1 Axes>"
      ]
     },
     "metadata": {
      "needs_background": "light"
     },
     "output_type": "display_data"
    },
    {
     "data": {
      "image/png": "[encoded data removed]",
      "text/plain": [
       "<Figure size 474.375x432 with 1 Axes>"
      ]
     },
     "metadata": {
      "needs_background": "light"
     },
     "output_type": "display_data"
    }
   ],
   "source": [
    "import pandas as pd\n",
    "\n",
    "data = pd.read_csv(\"iris.csv\")\n",
    "data.head(5)\n",
    "y = data[\"species\"]\n",
    "\n",
    "# Input data\n",
    "X = data.drop(\"species\", 1)\n",
    "\n",
    "print(X[:5], \"\\n\")\n",
    "print(y[:5])\n",
    "from sklearn.preprocessing import StandardScaler\n",
    "\n",
    "x_scaled = StandardScaler().fit_transform(X)\n",
    "x_scaled[:4]\n",
    "import numpy as np\n",
    "# Covariance Matrix\n",
    "features = x_scaled.T\n",
    "covMatrix = np.cov(features)\n",
    "covMatrix\n",
    "# Eigen values and Eigen vector\n",
    "values, vectors = np.linalg.eig(covMatrix)\n",
    "print(values, \"\\n\")\n",
    "print(vectors)\n",
    "\n",
    "# Variance of each feature w.r.t eigen vlaues\n",
    "explained_variance = []\n",
    "for i in range(len(values)):\n",
    "  res = values[i]/np.sum(values)*100\n",
    "  explained_variance.append(res)\n",
    "\n",
    "print(\"Variance of each feature\", explained_variance)\n",
    "\n",
    "import matplotlib.pyplot as plt\n",
    "import seaborn as sns\n",
    "\n",
    "# Bar graph\n",
    "plt.figure(figsize=(8,4))\n",
    "plt.bar(range(4), explained_variance, alpha=0.8)\n",
    "plt.ylabel(\"Percentage of explained variance\")\n",
    "plt.xlabel(\"Dimensions\")\n",
    "\n",
    "plt.show()\n",
    "\n",
    "pro_1 = x_scaled.dot(vectors.T[0])\n",
    "pro_2 = x_scaled.dot(vectors.T[1])\n",
    "\n",
    "result = pd.DataFrame(pro_1, columns=[\"PC1\"])\n",
    "result[\"PC2\"] = pro_2\n",
    "result[\"Y\"] = y\n",
    "\n",
    "result.head(10)\n",
    "sns.FacetGrid(result, hue=\"Y\", height=6).map(plt.scatter, 'PC1', 'PC2').add_legend()\n",
    "plt.show()\n"
   ]
  },
  {
   "cell_type": "code",
   "execution_count": null,
   "metadata": {},
   "outputs": [],
   "source": []
  }
 ],
 "metadata": {
  "kernelspec": {
   "display_name": "Python 3",
   "language": "python",
   "name": "python3"
  },
  "language_info": {
   "codemirror_mode": {
    "name": "ipython",
    "version": 3
   },
   "file_extension": ".py",
   "mimetype": "text/x-python",
   "name": "python",
   "nbconvert_exporter": "python",
   "pygments_lexer": "ipython3",
   "version": "3.8.1"
  }
 },
 "nbformat": 4,
 "nbformat_minor": 4
}
